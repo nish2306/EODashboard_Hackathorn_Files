{
  "nbformat": 4,
  "nbformat_minor": 0,
  "metadata": {
    "colab": {
      "name": "EOdashboard_Visual_tool_upgrade_file.ipynb",
      "provenance": [],
      "mount_file_id": "1qWwt-Uu2BAMEvRteBl0Zmufv1KvPtaBG",
      "authorship_tag": "ABX9TyNcfguMrYE5Gem3+LAKLN/n",
      "include_colab_link": true
    },
    "kernelspec": {
      "name": "python3",
      "display_name": "Python 3"
    },
    "language_info": {
      "name": "python"
    },
    "accelerator": "GPU"
  },
  "cells": [
    {
      "cell_type": "markdown",
      "metadata": {
        "id": "view-in-github",
        "colab_type": "text"
      },
      "source": [
        "<a href=\"https://colab.research.google.com/github/nish2306/EODashboard_Hackathorn_Files/blob/main/EOdashboard_Visual_tool_upgrade_file.ipynb\" target=\"_parent\"><img src=\"https://colab.research.google.com/assets/colab-badge.svg\" alt=\"Open In Colab\"/></a>"
      ]
    },
    {
      "cell_type": "code",
      "metadata": {
        "id": "NH9-gOLT62ML"
      },
      "source": [
        "import pandas as pd"
      ],
      "execution_count": 1,
      "outputs": []
    },
    {
      "cell_type": "code",
      "metadata": {
        "id": "2eMlDireXBYi"
      },
      "source": [
        "import os\n",
        "import glob\n",
        "os.chdir(\"/content/drive/MyDrive/Visualization_EOdashboard\")"
      ],
      "execution_count": 3,
      "outputs": []
    },
    {
      "cell_type": "code",
      "metadata": {
        "id": "TwC8hxSlXgeP"
      },
      "source": [
        "extension = 'csv'\n",
        "all_filenames = [i for i in glob.glob('*.{}'.format(extension))]"
      ],
      "execution_count": 6,
      "outputs": []
    },
    {
      "cell_type": "code",
      "metadata": {
        "colab": {
          "base_uri": "https://localhost:8080/"
        },
        "id": "Qz8hC0qVhl8I",
        "outputId": "e838ef5e-86f7-4692-836e-c42abe325527"
      },
      "source": [
        "all_filenames"
      ],
      "execution_count": 7,
      "outputs": [
        {
          "output_type": "execute_result",
          "data": {
            "text/plain": [
              "['New Delhi_2021-06-28_IN01-N2.csv',\n",
              " 'Dhaka_2021-06-28_BD01-N2.csv',\n",
              " 'Shanghai_2021-06-28_CN02-N2.csv',\n",
              " 'Mumbai_2021-06-28_IN02-N2.csv',\n",
              " 'Beijing_2021-06-28_CN01-N2.csv',\n",
              " 'New York_2021-06-28_US01-N2.csv',\n",
              " 'Tokyo_2021-06-29_JP01-N2.csv']"
            ]
          },
          "metadata": {
            "tags": []
          },
          "execution_count": 7
        }
      ]
    },
    {
      "cell_type": "code",
      "metadata": {
        "id": "7Rg2yjEuiOlh"
      },
      "source": [
        "def city_name(list_):\n",
        "  city = []\n",
        "  for i in range(len(list_)):\n",
        "    x = all_filenames[i]\n",
        "    val = x.split('_',maxsplit=1)[0]\n",
        "    city.append(val)\n",
        "  return city\n",
        "    \n"
      ],
      "execution_count": 8,
      "outputs": []
    },
    {
      "cell_type": "code",
      "metadata": {
        "id": "NAoq9PMnhw_Y"
      },
      "source": [
        "cities = city_name(all_filenames)"
      ],
      "execution_count": 9,
      "outputs": []
    },
    {
      "cell_type": "code",
      "metadata": {
        "id": "yByqOqkbkGwZ"
      },
      "source": [
        "frames = []\n",
        "for i in range(len(all_filenames)):\n",
        "  path = '/content/drive/MyDrive/Visualization_EOdashboard/'+ all_filenames[i]\n",
        "  df = pd.read_csv(path)\n",
        "  df['City'] = cities[i]\n",
        "  frames.append(df)\n"
      ],
      "execution_count": 10,
      "outputs": []
    },
    {
      "cell_type": "code",
      "metadata": {
        "id": "-JMB9mapl5Vf"
      },
      "source": [
        "df = pd.concat(frames,ignore_index=True)"
      ],
      "execution_count": 16,
      "outputs": []
    },
    {
      "cell_type": "code",
      "metadata": {
        "colab": {
          "base_uri": "https://localhost:8080/",
          "height": 728
        },
        "id": "uUg7f2QZmB9n",
        "outputId": "4655f6eb-cb60-420d-f3c6-00aa80824e1f"
      },
      "source": [
        "df"
      ],
      "execution_count": 17,
      "outputs": [
        {
          "output_type": "execute_result",
          "data": {
            "text/html": [
              "<div>\n",
              "<style scoped>\n",
              "    .dataframe tbody tr th:only-of-type {\n",
              "        vertical-align: middle;\n",
              "    }\n",
              "\n",
              "    .dataframe tbody tr th {\n",
              "        vertical-align: top;\n",
              "    }\n",
              "\n",
              "    .dataframe thead th {\n",
              "        text-align: right;\n",
              "    }\n",
              "</style>\n",
              "<table border=\"1\" class=\"dataframe\">\n",
              "  <thead>\n",
              "    <tr style=\"text-align: right;\">\n",
              "      <th></th>\n",
              "      <th>time</th>\n",
              "      <th>aoi</th>\n",
              "      <th>measurement</th>\n",
              "      <th>indicatorValue</th>\n",
              "      <th>referenceTime</th>\n",
              "      <th>dataProvider</th>\n",
              "      <th>eoSensor</th>\n",
              "      <th>colorCode</th>\n",
              "      <th>inputData</th>\n",
              "      <th>City</th>\n",
              "    </tr>\n",
              "  </thead>\n",
              "  <tbody>\n",
              "    <tr>\n",
              "      <th>0</th>\n",
              "      <td>2016-03-01T00:00:00.000Z</td>\n",
              "      <td>LatLng(28.6448, 77.216721)</td>\n",
              "      <td>0.91</td>\n",
              "      <td>Normal</td>\n",
              "      <td>Invalid DateTime</td>\n",
              "      <td>JAXA</td>\n",
              "      <td>GOSAT</td>\n",
              "      <td>BLUE</td>\n",
              "      <td>NaN</td>\n",
              "      <td>New Delhi</td>\n",
              "    </tr>\n",
              "    <tr>\n",
              "      <th>1</th>\n",
              "      <td>2016-04-01T00:00:00.000Z</td>\n",
              "      <td>LatLng(28.6448, 77.216721)</td>\n",
              "      <td>6.49</td>\n",
              "      <td>Normal</td>\n",
              "      <td>Invalid DateTime</td>\n",
              "      <td>JAXA</td>\n",
              "      <td>GOSAT</td>\n",
              "      <td>BLUE</td>\n",
              "      <td>NaN</td>\n",
              "      <td>New Delhi</td>\n",
              "    </tr>\n",
              "    <tr>\n",
              "      <th>2</th>\n",
              "      <td>2017-01-01T00:00:00.000Z</td>\n",
              "      <td>LatLng(28.6448, 77.216721)</td>\n",
              "      <td>2.33</td>\n",
              "      <td>Normal</td>\n",
              "      <td>Invalid DateTime</td>\n",
              "      <td>JAXA</td>\n",
              "      <td>GOSAT</td>\n",
              "      <td>BLUE</td>\n",
              "      <td>NaN</td>\n",
              "      <td>New Delhi</td>\n",
              "    </tr>\n",
              "    <tr>\n",
              "      <th>3</th>\n",
              "      <td>2017-02-01T00:00:00.000Z</td>\n",
              "      <td>LatLng(28.6448, 77.216721)</td>\n",
              "      <td>7.09</td>\n",
              "      <td>Normal</td>\n",
              "      <td>Invalid DateTime</td>\n",
              "      <td>JAXA</td>\n",
              "      <td>GOSAT</td>\n",
              "      <td>BLUE</td>\n",
              "      <td>NaN</td>\n",
              "      <td>New Delhi</td>\n",
              "    </tr>\n",
              "    <tr>\n",
              "      <th>4</th>\n",
              "      <td>2017-03-01T00:00:00.000Z</td>\n",
              "      <td>LatLng(28.6448, 77.216721)</td>\n",
              "      <td>1.67</td>\n",
              "      <td>Normal</td>\n",
              "      <td>Invalid DateTime</td>\n",
              "      <td>JAXA</td>\n",
              "      <td>GOSAT</td>\n",
              "      <td>BLUE</td>\n",
              "      <td>NaN</td>\n",
              "      <td>New Delhi</td>\n",
              "    </tr>\n",
              "    <tr>\n",
              "      <th>...</th>\n",
              "      <td>...</td>\n",
              "      <td>...</td>\n",
              "      <td>...</td>\n",
              "      <td>...</td>\n",
              "      <td>...</td>\n",
              "      <td>...</td>\n",
              "      <td>...</td>\n",
              "      <td>...</td>\n",
              "      <td>...</td>\n",
              "      <td>...</td>\n",
              "    </tr>\n",
              "    <tr>\n",
              "      <th>116</th>\n",
              "      <td>2019-04-01T00:00:00.000Z</td>\n",
              "      <td>LatLng(35.61, 139.78)</td>\n",
              "      <td>4.43</td>\n",
              "      <td>Normal</td>\n",
              "      <td>Invalid DateTime</td>\n",
              "      <td>JAXA</td>\n",
              "      <td>Apr 2016-2019 average value GOSAT</td>\n",
              "      <td>BLUE</td>\n",
              "      <td>GOSAT_XCO2</td>\n",
              "      <td>Tokyo</td>\n",
              "    </tr>\n",
              "    <tr>\n",
              "      <th>117</th>\n",
              "      <td>2020-01-01T00:00:00.000Z</td>\n",
              "      <td>LatLng(35.61, 139.78)</td>\n",
              "      <td>3.52</td>\n",
              "      <td>Low</td>\n",
              "      <td>Invalid DateTime</td>\n",
              "      <td>JAXA</td>\n",
              "      <td>January value GOSAT</td>\n",
              "      <td>GREEN</td>\n",
              "      <td>GOSAT_XCO2</td>\n",
              "      <td>Tokyo</td>\n",
              "    </tr>\n",
              "    <tr>\n",
              "      <th>118</th>\n",
              "      <td>2020-02-01T00:00:00.000Z</td>\n",
              "      <td>LatLng(35.61, 139.78)</td>\n",
              "      <td>4.11</td>\n",
              "      <td>Low</td>\n",
              "      <td>Invalid DateTime</td>\n",
              "      <td>JAXA</td>\n",
              "      <td>February value GOSAT</td>\n",
              "      <td>GREEN</td>\n",
              "      <td>GOSAT_XCO2</td>\n",
              "      <td>Tokyo</td>\n",
              "    </tr>\n",
              "    <tr>\n",
              "      <th>119</th>\n",
              "      <td>2020-03-01T00:00:00.000Z</td>\n",
              "      <td>LatLng(35.61, 139.78)</td>\n",
              "      <td>3.58</td>\n",
              "      <td>Low</td>\n",
              "      <td>Invalid DateTime</td>\n",
              "      <td>JAXA</td>\n",
              "      <td>March value GOSAT</td>\n",
              "      <td>GREEN</td>\n",
              "      <td>GOSAT_XCO2</td>\n",
              "      <td>Tokyo</td>\n",
              "    </tr>\n",
              "    <tr>\n",
              "      <th>120</th>\n",
              "      <td>2020-04-01T00:00:00.000Z</td>\n",
              "      <td>LatLng(35.61, 139.78)</td>\n",
              "      <td>2.96</td>\n",
              "      <td>Low</td>\n",
              "      <td>Invalid DateTime</td>\n",
              "      <td>JAXA</td>\n",
              "      <td>April value GOSAT</td>\n",
              "      <td>GREEN</td>\n",
              "      <td>GOSAT_XCO2</td>\n",
              "      <td>Tokyo</td>\n",
              "    </tr>\n",
              "  </tbody>\n",
              "</table>\n",
              "<p>121 rows × 10 columns</p>\n",
              "</div>"
            ],
            "text/plain": [
              "                         time  ...       City\n",
              "0    2016-03-01T00:00:00.000Z  ...  New Delhi\n",
              "1    2016-04-01T00:00:00.000Z  ...  New Delhi\n",
              "2    2017-01-01T00:00:00.000Z  ...  New Delhi\n",
              "3    2017-02-01T00:00:00.000Z  ...  New Delhi\n",
              "4    2017-03-01T00:00:00.000Z  ...  New Delhi\n",
              "..                        ...  ...        ...\n",
              "116  2019-04-01T00:00:00.000Z  ...      Tokyo\n",
              "117  2020-01-01T00:00:00.000Z  ...      Tokyo\n",
              "118  2020-02-01T00:00:00.000Z  ...      Tokyo\n",
              "119  2020-03-01T00:00:00.000Z  ...      Tokyo\n",
              "120  2020-04-01T00:00:00.000Z  ...      Tokyo\n",
              "\n",
              "[121 rows x 10 columns]"
            ]
          },
          "metadata": {
            "tags": []
          },
          "execution_count": 17
        }
      ]
    },
    {
      "cell_type": "code",
      "metadata": {
        "id": "cxT219FgXmHV"
      },
      "source": [
        "# #combine all files in the list\n",
        "# combined_csv = pd.concat([pd.read_csv(f) for f in all_filenames ])\n",
        "# #export to csv\n",
        "# combined_csv.to_csv( \"combined_csv.csv\", index=False, encoding='utf-8-sig')"
      ],
      "execution_count": 135,
      "outputs": []
    },
    {
      "cell_type": "code",
      "metadata": {
        "id": "rBoc9YOyXxvg"
      },
      "source": [
        "# path = '/content/drive/MyDrive/Visualization_EOdashboard/combined_csv.csv'"
      ],
      "execution_count": 56,
      "outputs": []
    },
    {
      "cell_type": "code",
      "metadata": {
        "id": "5KHTg8HAX2dP"
      },
      "source": [
        "# df = pd.read_csv(path)"
      ],
      "execution_count": 92,
      "outputs": []
    },
    {
      "cell_type": "code",
      "metadata": {
        "id": "n5LG-yQ_AxH5"
      },
      "source": [
        "df = df.drop(['referenceTime','inputData','eoSensor'],axis = 1)"
      ],
      "execution_count": 18,
      "outputs": []
    },
    {
      "cell_type": "code",
      "metadata": {
        "colab": {
          "base_uri": "https://localhost:8080/",
          "height": 204
        },
        "id": "b_wR3ABpBDOL",
        "outputId": "11bd18d3-cd48-4f89-9ab7-c1fda71ac19e"
      },
      "source": [
        "df.head()"
      ],
      "execution_count": 19,
      "outputs": [
        {
          "output_type": "execute_result",
          "data": {
            "text/html": [
              "<div>\n",
              "<style scoped>\n",
              "    .dataframe tbody tr th:only-of-type {\n",
              "        vertical-align: middle;\n",
              "    }\n",
              "\n",
              "    .dataframe tbody tr th {\n",
              "        vertical-align: top;\n",
              "    }\n",
              "\n",
              "    .dataframe thead th {\n",
              "        text-align: right;\n",
              "    }\n",
              "</style>\n",
              "<table border=\"1\" class=\"dataframe\">\n",
              "  <thead>\n",
              "    <tr style=\"text-align: right;\">\n",
              "      <th></th>\n",
              "      <th>time</th>\n",
              "      <th>aoi</th>\n",
              "      <th>measurement</th>\n",
              "      <th>indicatorValue</th>\n",
              "      <th>dataProvider</th>\n",
              "      <th>colorCode</th>\n",
              "      <th>City</th>\n",
              "    </tr>\n",
              "  </thead>\n",
              "  <tbody>\n",
              "    <tr>\n",
              "      <th>0</th>\n",
              "      <td>2016-03-01T00:00:00.000Z</td>\n",
              "      <td>LatLng(28.6448, 77.216721)</td>\n",
              "      <td>0.91</td>\n",
              "      <td>Normal</td>\n",
              "      <td>JAXA</td>\n",
              "      <td>BLUE</td>\n",
              "      <td>New Delhi</td>\n",
              "    </tr>\n",
              "    <tr>\n",
              "      <th>1</th>\n",
              "      <td>2016-04-01T00:00:00.000Z</td>\n",
              "      <td>LatLng(28.6448, 77.216721)</td>\n",
              "      <td>6.49</td>\n",
              "      <td>Normal</td>\n",
              "      <td>JAXA</td>\n",
              "      <td>BLUE</td>\n",
              "      <td>New Delhi</td>\n",
              "    </tr>\n",
              "    <tr>\n",
              "      <th>2</th>\n",
              "      <td>2017-01-01T00:00:00.000Z</td>\n",
              "      <td>LatLng(28.6448, 77.216721)</td>\n",
              "      <td>2.33</td>\n",
              "      <td>Normal</td>\n",
              "      <td>JAXA</td>\n",
              "      <td>BLUE</td>\n",
              "      <td>New Delhi</td>\n",
              "    </tr>\n",
              "    <tr>\n",
              "      <th>3</th>\n",
              "      <td>2017-02-01T00:00:00.000Z</td>\n",
              "      <td>LatLng(28.6448, 77.216721)</td>\n",
              "      <td>7.09</td>\n",
              "      <td>Normal</td>\n",
              "      <td>JAXA</td>\n",
              "      <td>BLUE</td>\n",
              "      <td>New Delhi</td>\n",
              "    </tr>\n",
              "    <tr>\n",
              "      <th>4</th>\n",
              "      <td>2017-03-01T00:00:00.000Z</td>\n",
              "      <td>LatLng(28.6448, 77.216721)</td>\n",
              "      <td>1.67</td>\n",
              "      <td>Normal</td>\n",
              "      <td>JAXA</td>\n",
              "      <td>BLUE</td>\n",
              "      <td>New Delhi</td>\n",
              "    </tr>\n",
              "  </tbody>\n",
              "</table>\n",
              "</div>"
            ],
            "text/plain": [
              "                       time                         aoi  ...  colorCode       City\n",
              "0  2016-03-01T00:00:00.000Z  LatLng(28.6448, 77.216721)  ...       BLUE  New Delhi\n",
              "1  2016-04-01T00:00:00.000Z  LatLng(28.6448, 77.216721)  ...       BLUE  New Delhi\n",
              "2  2017-01-01T00:00:00.000Z  LatLng(28.6448, 77.216721)  ...       BLUE  New Delhi\n",
              "3  2017-02-01T00:00:00.000Z  LatLng(28.6448, 77.216721)  ...       BLUE  New Delhi\n",
              "4  2017-03-01T00:00:00.000Z  LatLng(28.6448, 77.216721)  ...       BLUE  New Delhi\n",
              "\n",
              "[5 rows x 7 columns]"
            ]
          },
          "metadata": {
            "tags": []
          },
          "execution_count": 19
        }
      ]
    },
    {
      "cell_type": "code",
      "metadata": {
        "id": "b4Gy0bL6C7WR"
      },
      "source": [
        "import re"
      ],
      "execution_count": 20,
      "outputs": []
    },
    {
      "cell_type": "code",
      "metadata": {
        "id": "1AUce7BxChfJ"
      },
      "source": [
        "def time_change(col):\n",
        "  x = col \n",
        "  x = re.sub('T00:00:00.000Z', '', x)\n",
        "  return x\n"
      ],
      "execution_count": 21,
      "outputs": []
    },
    {
      "cell_type": "code",
      "metadata": {
        "id": "Y9ILc_ZxCZ1p"
      },
      "source": [
        "df['Time'] = df['time'].apply(time_change)"
      ],
      "execution_count": 22,
      "outputs": []
    },
    {
      "cell_type": "code",
      "metadata": {
        "id": "DBebXv0VEAdr"
      },
      "source": [
        "def latlong_change(col):\n",
        "  x = col \n",
        "  x = re.sub('LatLng', '', x)\n",
        "  x = x.replace('(', '')\n",
        "  x = x.replace(')', '')\n",
        "\n",
        "  # x = re.sub('1)', '', x)\n",
        "  return x\n"
      ],
      "execution_count": 23,
      "outputs": []
    },
    {
      "cell_type": "code",
      "metadata": {
        "id": "5nDLpF5RESCs"
      },
      "source": [
        "df['lat_long'] = df['aoi'].apply(latlong_change)"
      ],
      "execution_count": 24,
      "outputs": []
    },
    {
      "cell_type": "code",
      "metadata": {
        "id": "ZpqySbPRDT6Z"
      },
      "source": [
        "df = df.drop(['time','aoi'],axis=1)"
      ],
      "execution_count": 25,
      "outputs": []
    },
    {
      "cell_type": "code",
      "metadata": {
        "colab": {
          "base_uri": "https://localhost:8080/",
          "height": 419
        },
        "id": "u9AffrZiFNPH",
        "outputId": "c4a49bbc-b47c-454f-9e32-ac38f2d5e53f"
      },
      "source": [
        "df"
      ],
      "execution_count": 26,
      "outputs": [
        {
          "output_type": "execute_result",
          "data": {
            "text/html": [
              "<div>\n",
              "<style scoped>\n",
              "    .dataframe tbody tr th:only-of-type {\n",
              "        vertical-align: middle;\n",
              "    }\n",
              "\n",
              "    .dataframe tbody tr th {\n",
              "        vertical-align: top;\n",
              "    }\n",
              "\n",
              "    .dataframe thead th {\n",
              "        text-align: right;\n",
              "    }\n",
              "</style>\n",
              "<table border=\"1\" class=\"dataframe\">\n",
              "  <thead>\n",
              "    <tr style=\"text-align: right;\">\n",
              "      <th></th>\n",
              "      <th>measurement</th>\n",
              "      <th>indicatorValue</th>\n",
              "      <th>dataProvider</th>\n",
              "      <th>colorCode</th>\n",
              "      <th>City</th>\n",
              "      <th>Time</th>\n",
              "      <th>lat_long</th>\n",
              "    </tr>\n",
              "  </thead>\n",
              "  <tbody>\n",
              "    <tr>\n",
              "      <th>0</th>\n",
              "      <td>0.91</td>\n",
              "      <td>Normal</td>\n",
              "      <td>JAXA</td>\n",
              "      <td>BLUE</td>\n",
              "      <td>New Delhi</td>\n",
              "      <td>2016-03-01</td>\n",
              "      <td>28.6448, 77.216721</td>\n",
              "    </tr>\n",
              "    <tr>\n",
              "      <th>1</th>\n",
              "      <td>6.49</td>\n",
              "      <td>Normal</td>\n",
              "      <td>JAXA</td>\n",
              "      <td>BLUE</td>\n",
              "      <td>New Delhi</td>\n",
              "      <td>2016-04-01</td>\n",
              "      <td>28.6448, 77.216721</td>\n",
              "    </tr>\n",
              "    <tr>\n",
              "      <th>2</th>\n",
              "      <td>2.33</td>\n",
              "      <td>Normal</td>\n",
              "      <td>JAXA</td>\n",
              "      <td>BLUE</td>\n",
              "      <td>New Delhi</td>\n",
              "      <td>2017-01-01</td>\n",
              "      <td>28.6448, 77.216721</td>\n",
              "    </tr>\n",
              "    <tr>\n",
              "      <th>3</th>\n",
              "      <td>7.09</td>\n",
              "      <td>Normal</td>\n",
              "      <td>JAXA</td>\n",
              "      <td>BLUE</td>\n",
              "      <td>New Delhi</td>\n",
              "      <td>2017-02-01</td>\n",
              "      <td>28.6448, 77.216721</td>\n",
              "    </tr>\n",
              "    <tr>\n",
              "      <th>4</th>\n",
              "      <td>1.67</td>\n",
              "      <td>Normal</td>\n",
              "      <td>JAXA</td>\n",
              "      <td>BLUE</td>\n",
              "      <td>New Delhi</td>\n",
              "      <td>2017-03-01</td>\n",
              "      <td>28.6448, 77.216721</td>\n",
              "    </tr>\n",
              "    <tr>\n",
              "      <th>...</th>\n",
              "      <td>...</td>\n",
              "      <td>...</td>\n",
              "      <td>...</td>\n",
              "      <td>...</td>\n",
              "      <td>...</td>\n",
              "      <td>...</td>\n",
              "      <td>...</td>\n",
              "    </tr>\n",
              "    <tr>\n",
              "      <th>116</th>\n",
              "      <td>4.43</td>\n",
              "      <td>Normal</td>\n",
              "      <td>JAXA</td>\n",
              "      <td>BLUE</td>\n",
              "      <td>Tokyo</td>\n",
              "      <td>2019-04-01</td>\n",
              "      <td>35.61, 139.78</td>\n",
              "    </tr>\n",
              "    <tr>\n",
              "      <th>117</th>\n",
              "      <td>3.52</td>\n",
              "      <td>Low</td>\n",
              "      <td>JAXA</td>\n",
              "      <td>GREEN</td>\n",
              "      <td>Tokyo</td>\n",
              "      <td>2020-01-01</td>\n",
              "      <td>35.61, 139.78</td>\n",
              "    </tr>\n",
              "    <tr>\n",
              "      <th>118</th>\n",
              "      <td>4.11</td>\n",
              "      <td>Low</td>\n",
              "      <td>JAXA</td>\n",
              "      <td>GREEN</td>\n",
              "      <td>Tokyo</td>\n",
              "      <td>2020-02-01</td>\n",
              "      <td>35.61, 139.78</td>\n",
              "    </tr>\n",
              "    <tr>\n",
              "      <th>119</th>\n",
              "      <td>3.58</td>\n",
              "      <td>Low</td>\n",
              "      <td>JAXA</td>\n",
              "      <td>GREEN</td>\n",
              "      <td>Tokyo</td>\n",
              "      <td>2020-03-01</td>\n",
              "      <td>35.61, 139.78</td>\n",
              "    </tr>\n",
              "    <tr>\n",
              "      <th>120</th>\n",
              "      <td>2.96</td>\n",
              "      <td>Low</td>\n",
              "      <td>JAXA</td>\n",
              "      <td>GREEN</td>\n",
              "      <td>Tokyo</td>\n",
              "      <td>2020-04-01</td>\n",
              "      <td>35.61, 139.78</td>\n",
              "    </tr>\n",
              "  </tbody>\n",
              "</table>\n",
              "<p>121 rows × 7 columns</p>\n",
              "</div>"
            ],
            "text/plain": [
              "     measurement indicatorValue  ...        Time            lat_long\n",
              "0           0.91         Normal  ...  2016-03-01  28.6448, 77.216721\n",
              "1           6.49         Normal  ...  2016-04-01  28.6448, 77.216721\n",
              "2           2.33         Normal  ...  2017-01-01  28.6448, 77.216721\n",
              "3           7.09         Normal  ...  2017-02-01  28.6448, 77.216721\n",
              "4           1.67         Normal  ...  2017-03-01  28.6448, 77.216721\n",
              "..           ...            ...  ...         ...                 ...\n",
              "116         4.43         Normal  ...  2019-04-01       35.61, 139.78\n",
              "117         3.52            Low  ...  2020-01-01       35.61, 139.78\n",
              "118         4.11            Low  ...  2020-02-01       35.61, 139.78\n",
              "119         3.58            Low  ...  2020-03-01       35.61, 139.78\n",
              "120         2.96            Low  ...  2020-04-01       35.61, 139.78\n",
              "\n",
              "[121 rows x 7 columns]"
            ]
          },
          "metadata": {
            "tags": []
          },
          "execution_count": 26
        }
      ]
    },
    {
      "cell_type": "code",
      "metadata": {
        "colab": {
          "base_uri": "https://localhost:8080/"
        },
        "id": "L7lDnPBOJxtE",
        "outputId": "1b6dd3e9-b53c-4964-a393-c909450d7241"
      },
      "source": [
        "df['colorCode'].unique()"
      ],
      "execution_count": 126,
      "outputs": [
        {
          "output_type": "execute_result",
          "data": {
            "text/plain": [
              "array(['BLUE', 'GREEN'], dtype=object)"
            ]
          },
          "metadata": {
            "tags": []
          },
          "execution_count": 126
        }
      ]
    },
    {
      "cell_type": "code",
      "metadata": {
        "id": "irJTqb2rCHE1"
      },
      "source": [
        "import datetime"
      ],
      "execution_count": 27,
      "outputs": []
    },
    {
      "cell_type": "code",
      "metadata": {
        "id": "hccykCNjKtUh"
      },
      "source": [
        "from datetime import datetime"
      ],
      "execution_count": 28,
      "outputs": []
    },
    {
      "cell_type": "code",
      "metadata": {
        "id": "pn49x5NrNQU5"
      },
      "source": [
        "def convert_month(col):\n",
        "  x = col\n",
        "  date_time_obj = datetime.strptime(x, '%Y-%m-%d')\n",
        "  return date_time_obj.strftime('%B')\n"
      ],
      "execution_count": 29,
      "outputs": []
    },
    {
      "cell_type": "code",
      "metadata": {
        "id": "508UlNlnNhTM"
      },
      "source": [
        "df['month'] = df['Time'].apply(convert_month)"
      ],
      "execution_count": 30,
      "outputs": []
    },
    {
      "cell_type": "code",
      "metadata": {
        "id": "aFsr2DtIOxAJ"
      },
      "source": [
        "def convert_year(col):\n",
        "  x = col\n",
        "  date_time_obj = datetime.strptime(x, '%Y-%m-%d')\n",
        "  return '20' + date_time_obj.strftime('%y')"
      ],
      "execution_count": 31,
      "outputs": []
    },
    {
      "cell_type": "code",
      "metadata": {
        "id": "X0qFNb-3OFcP"
      },
      "source": [
        "df['Year'] = df['Time'].apply(convert_year)"
      ],
      "execution_count": 32,
      "outputs": []
    },
    {
      "cell_type": "code",
      "metadata": {
        "colab": {
          "base_uri": "https://localhost:8080/",
          "height": 419
        },
        "id": "kDcXSYoUPE5n",
        "outputId": "19246ac5-ea3e-462c-ab08-8361135e7478"
      },
      "source": [
        "df"
      ],
      "execution_count": 33,
      "outputs": [
        {
          "output_type": "execute_result",
          "data": {
            "text/html": [
              "<div>\n",
              "<style scoped>\n",
              "    .dataframe tbody tr th:only-of-type {\n",
              "        vertical-align: middle;\n",
              "    }\n",
              "\n",
              "    .dataframe tbody tr th {\n",
              "        vertical-align: top;\n",
              "    }\n",
              "\n",
              "    .dataframe thead th {\n",
              "        text-align: right;\n",
              "    }\n",
              "</style>\n",
              "<table border=\"1\" class=\"dataframe\">\n",
              "  <thead>\n",
              "    <tr style=\"text-align: right;\">\n",
              "      <th></th>\n",
              "      <th>measurement</th>\n",
              "      <th>indicatorValue</th>\n",
              "      <th>dataProvider</th>\n",
              "      <th>colorCode</th>\n",
              "      <th>City</th>\n",
              "      <th>Time</th>\n",
              "      <th>lat_long</th>\n",
              "      <th>month</th>\n",
              "      <th>Year</th>\n",
              "    </tr>\n",
              "  </thead>\n",
              "  <tbody>\n",
              "    <tr>\n",
              "      <th>0</th>\n",
              "      <td>0.91</td>\n",
              "      <td>Normal</td>\n",
              "      <td>JAXA</td>\n",
              "      <td>BLUE</td>\n",
              "      <td>New Delhi</td>\n",
              "      <td>2016-03-01</td>\n",
              "      <td>28.6448, 77.216721</td>\n",
              "      <td>March</td>\n",
              "      <td>2016</td>\n",
              "    </tr>\n",
              "    <tr>\n",
              "      <th>1</th>\n",
              "      <td>6.49</td>\n",
              "      <td>Normal</td>\n",
              "      <td>JAXA</td>\n",
              "      <td>BLUE</td>\n",
              "      <td>New Delhi</td>\n",
              "      <td>2016-04-01</td>\n",
              "      <td>28.6448, 77.216721</td>\n",
              "      <td>April</td>\n",
              "      <td>2016</td>\n",
              "    </tr>\n",
              "    <tr>\n",
              "      <th>2</th>\n",
              "      <td>2.33</td>\n",
              "      <td>Normal</td>\n",
              "      <td>JAXA</td>\n",
              "      <td>BLUE</td>\n",
              "      <td>New Delhi</td>\n",
              "      <td>2017-01-01</td>\n",
              "      <td>28.6448, 77.216721</td>\n",
              "      <td>January</td>\n",
              "      <td>2017</td>\n",
              "    </tr>\n",
              "    <tr>\n",
              "      <th>3</th>\n",
              "      <td>7.09</td>\n",
              "      <td>Normal</td>\n",
              "      <td>JAXA</td>\n",
              "      <td>BLUE</td>\n",
              "      <td>New Delhi</td>\n",
              "      <td>2017-02-01</td>\n",
              "      <td>28.6448, 77.216721</td>\n",
              "      <td>February</td>\n",
              "      <td>2017</td>\n",
              "    </tr>\n",
              "    <tr>\n",
              "      <th>4</th>\n",
              "      <td>1.67</td>\n",
              "      <td>Normal</td>\n",
              "      <td>JAXA</td>\n",
              "      <td>BLUE</td>\n",
              "      <td>New Delhi</td>\n",
              "      <td>2017-03-01</td>\n",
              "      <td>28.6448, 77.216721</td>\n",
              "      <td>March</td>\n",
              "      <td>2017</td>\n",
              "    </tr>\n",
              "    <tr>\n",
              "      <th>...</th>\n",
              "      <td>...</td>\n",
              "      <td>...</td>\n",
              "      <td>...</td>\n",
              "      <td>...</td>\n",
              "      <td>...</td>\n",
              "      <td>...</td>\n",
              "      <td>...</td>\n",
              "      <td>...</td>\n",
              "      <td>...</td>\n",
              "    </tr>\n",
              "    <tr>\n",
              "      <th>116</th>\n",
              "      <td>4.43</td>\n",
              "      <td>Normal</td>\n",
              "      <td>JAXA</td>\n",
              "      <td>BLUE</td>\n",
              "      <td>Tokyo</td>\n",
              "      <td>2019-04-01</td>\n",
              "      <td>35.61, 139.78</td>\n",
              "      <td>April</td>\n",
              "      <td>2019</td>\n",
              "    </tr>\n",
              "    <tr>\n",
              "      <th>117</th>\n",
              "      <td>3.52</td>\n",
              "      <td>Low</td>\n",
              "      <td>JAXA</td>\n",
              "      <td>GREEN</td>\n",
              "      <td>Tokyo</td>\n",
              "      <td>2020-01-01</td>\n",
              "      <td>35.61, 139.78</td>\n",
              "      <td>January</td>\n",
              "      <td>2020</td>\n",
              "    </tr>\n",
              "    <tr>\n",
              "      <th>118</th>\n",
              "      <td>4.11</td>\n",
              "      <td>Low</td>\n",
              "      <td>JAXA</td>\n",
              "      <td>GREEN</td>\n",
              "      <td>Tokyo</td>\n",
              "      <td>2020-02-01</td>\n",
              "      <td>35.61, 139.78</td>\n",
              "      <td>February</td>\n",
              "      <td>2020</td>\n",
              "    </tr>\n",
              "    <tr>\n",
              "      <th>119</th>\n",
              "      <td>3.58</td>\n",
              "      <td>Low</td>\n",
              "      <td>JAXA</td>\n",
              "      <td>GREEN</td>\n",
              "      <td>Tokyo</td>\n",
              "      <td>2020-03-01</td>\n",
              "      <td>35.61, 139.78</td>\n",
              "      <td>March</td>\n",
              "      <td>2020</td>\n",
              "    </tr>\n",
              "    <tr>\n",
              "      <th>120</th>\n",
              "      <td>2.96</td>\n",
              "      <td>Low</td>\n",
              "      <td>JAXA</td>\n",
              "      <td>GREEN</td>\n",
              "      <td>Tokyo</td>\n",
              "      <td>2020-04-01</td>\n",
              "      <td>35.61, 139.78</td>\n",
              "      <td>April</td>\n",
              "      <td>2020</td>\n",
              "    </tr>\n",
              "  </tbody>\n",
              "</table>\n",
              "<p>121 rows × 9 columns</p>\n",
              "</div>"
            ],
            "text/plain": [
              "     measurement indicatorValue  ...     month  Year\n",
              "0           0.91         Normal  ...     March  2016\n",
              "1           6.49         Normal  ...     April  2016\n",
              "2           2.33         Normal  ...   January  2017\n",
              "3           7.09         Normal  ...  February  2017\n",
              "4           1.67         Normal  ...     March  2017\n",
              "..           ...            ...  ...       ...   ...\n",
              "116         4.43         Normal  ...     April  2019\n",
              "117         3.52            Low  ...   January  2020\n",
              "118         4.11            Low  ...  February  2020\n",
              "119         3.58            Low  ...     March  2020\n",
              "120         2.96            Low  ...     April  2020\n",
              "\n",
              "[121 rows x 9 columns]"
            ]
          },
          "metadata": {
            "tags": []
          },
          "execution_count": 33
        }
      ]
    },
    {
      "cell_type": "code",
      "metadata": {
        "id": "GrhI4AfonTkt"
      },
      "source": [
        "df = df.drop(['Time'],axis=1)"
      ],
      "execution_count": 34,
      "outputs": []
    },
    {
      "cell_type": "code",
      "metadata": {
        "colab": {
          "base_uri": "https://localhost:8080/"
        },
        "id": "6pyl2X_JY-F3",
        "outputId": "266d7326-cc42-4b54-fe0a-2dea70ad2dcb"
      },
      "source": [
        "pip install geopy\n"
      ],
      "execution_count": 76,
      "outputs": [
        {
          "output_type": "stream",
          "text": [
            "Requirement already satisfied: geopy in /usr/local/lib/python3.7/dist-packages (1.17.0)\n",
            "Requirement already satisfied: geographiclib<2,>=1.49 in /usr/local/lib/python3.7/dist-packages (from geopy) (1.50)\n"
          ],
          "name": "stdout"
        }
      ]
    },
    {
      "cell_type": "code",
      "metadata": {
        "id": "mPQtAeL1ZFv8"
      },
      "source": [
        "from geopy.geocoders import Nominatim\n",
        "\n",
        "def get_city(col):\n",
        "  lat_long = col\n",
        "  geolocator = Nominatim(user_agent=\"geoapiExercises\")\n",
        "  location = geolocator.reverse(lat_long,language = 'en')\n",
        "  address = location.raw['address']\n",
        "  print(address)\n",
        "  city = address.get('town')\n",
        "  # print(city)\n",
        "  return city\n"
      ],
      "execution_count": 121,
      "outputs": []
    },
    {
      "cell_type": "code",
      "metadata": {
        "id": "hWkYVExEncGO"
      },
      "source": [
        "df.to_csv('/content/drive/MyDrive/Resultant_DataFile.csv')"
      ],
      "execution_count": 35,
      "outputs": []
    },
    {
      "cell_type": "code",
      "metadata": {
        "id": "C4X-p07mHrYz"
      },
      "source": [
        "import seaborn as sn"
      ],
      "execution_count": 68,
      "outputs": []
    },
    {
      "cell_type": "code",
      "metadata": {
        "colab": {
          "base_uri": "https://localhost:8080/",
          "height": 350
        },
        "id": "pGa4YLSxzzVb",
        "outputId": "45d16902-b346-4fdd-ed5c-f390b47b6ebe"
      },
      "source": [
        "sn.lineplot(df['Year'],df['measurement'],hue=df['City'])"
      ],
      "execution_count": 168,
      "outputs": [
        {
          "output_type": "stream",
          "text": [
            "/usr/local/lib/python3.7/dist-packages/seaborn/_decorators.py:43: FutureWarning: Pass the following variables as keyword args: x, y. From version 0.12, the only valid positional argument will be `data`, and passing other arguments without an explicit keyword will result in an error or misinterpretation.\n",
            "  FutureWarning\n"
          ],
          "name": "stderr"
        },
        {
          "output_type": "execute_result",
          "data": {
            "text/plain": [
              "<matplotlib.axes._subplots.AxesSubplot at 0x7fc3608d0090>"
            ]
          },
          "metadata": {
            "tags": []
          },
          "execution_count": 168
        },
        {
          "output_type": "display_data",
          "data": {
            "image/png": "[encoded data removed]",
            "text/plain": [
              "<Figure size 432x288 with 1 Axes>"
            ]
          },
          "metadata": {
            "tags": [],
            "needs_background": "light"
          }
        }
      ]
    }
  ]
}